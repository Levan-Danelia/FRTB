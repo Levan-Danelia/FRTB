{
  "cells": [
    {
      "cell_type": "markdown",
      "metadata": {
        "id": "view-in-github",
        "colab_type": "text"
      },
      "source": [
        "<a href=\"https://colab.research.google.com/github/Levan-Danelia/FRTB/blob/main/FRTB_CRDL_Securitization_ACTP.ipynb\" target=\"_parent\"><img src=\"https://colab.research.google.com/assets/colab-badge.svg\" alt=\"Open In Colab\"/></a>"
      ]
    },
    {
      "cell_type": "code",
      "source": [
        "# Cell 1: Imports, Helper Function, and Initial Data Setup\n",
        "import pandas as pd\n",
        "import numpy as np\n",
        "\n",
        "def calculate_capital_charge(weighted_sensitivities, correlation):\n",
        "    \"\"\"\n",
        "    Calculates the intra-bucket capital charge (Kb) based on weighted sensitivities and a correlation matrix.\n",
        "    This function implements the formula from Article 325f(7).\n",
        "\n",
        "    Args:\n",
        "        weighted_sensitivities (list): A list of weighted sensitivity values.\n",
        "        correlation (float): The single correlation value to use for all off-diagonal elements.\n",
        "\n",
        "    Returns:\n",
        "        float: The calculated intra-bucket capital charge.\n",
        "    \"\"\"\n",
        "    ws = np.array(weighted_sensitivities)\n",
        "\n",
        "    # Create a correlation matrix\n",
        "    num_factors = len(ws)\n",
        "    corr_matrix = np.full((num_factors, num_factors), correlation)\n",
        "    np.fill_diagonal(corr_matrix, 1)\n",
        "\n",
        "    # Calculate the sum of squared weighted sensitivities\n",
        "    sum_sq_ws = np.sum(ws**2)\n",
        "\n",
        "    # Calculate the sum of cross-products\n",
        "    sum_cross_products = 0\n",
        "    for i in range(num_factors):\n",
        "        for j in range(num_factors):\n",
        "            if i != j:\n",
        "                sum_cross_products += corr_matrix[i, j] * ws[i] * ws[j]\n",
        "\n",
        "    # The value inside the square root, floored at zero\n",
        "    inner_value = max(0, sum_sq_ws + sum_cross_products)\n",
        "\n",
        "    # Calculate Kb\n",
        "    kb = np.sqrt(inner_value)\n",
        "    return kb\n",
        "\n",
        "# --- Initial Portfolio Data ---\n",
        "# Define the portfolio based on the provided data.\n",
        "portfolio_data = [\n",
        "    {'Position': 1, 'Bucket': 13, 'Curve': 'CDS', 'Sector': 'Consumer', 'Tenor': '6M', 'Issuer': 'Issuer 1', 'Sensitivity': 2344},\n",
        "    {'Position': 2, 'Bucket': 13, 'Curve': 'CDS', 'Sector': 'Consumer', 'Tenor': '1Y', 'Issuer': 'Issuer 1', 'Sensitivity': -1812715},\n",
        "    {'Position': 3, 'Bucket': 13, 'Curve': 'CDS', 'Sector': 'Consumer', 'Tenor': '3Y', 'Issuer': 'Issuer 1', 'Sensitivity': -5563010}\n",
        "]\n",
        "df = pd.DataFrame(portfolio_data)\n",
        "\n",
        "print(\"--- FRTB ASA: CSR Securitization ACTP Delta Calculation ---\")\n",
        "print(\"Cell 1 executed: Libraries imported, helper function defined, and data loaded.\")\n",
        "print(\"-\" * 60)"
      ],
      "outputs": [
        {
          "output_type": "stream",
          "name": "stdout",
          "text": [
            "--- FRTB ASA: CSR Securitization ACTP Delta Calculation ---\n",
            "Cell 1 executed: Libraries imported, helper function defined, and data loaded.\n",
            "------------------------------------------------------------\n"
          ]
        }
      ],
      "execution_count": 2,
      "metadata": {
        "colab": {
          "base_uri": "https://localhost:8080/"
        },
        "id": "5-RQ_7SHcg3e",
        "outputId": "f099bf35-ca37-4b4a-f960-f871ffdece58"
      }
    },
    {
      "cell_type": "code",
      "source": [
        "# Cell 2: Step 1 - Definition of Risk Factors\n",
        "print(\"\\n### Step 1: Definition of Risk Factors ###\")\n",
        "df['Risk Factor (Issuer, Tenor)'] = df['Issuer'] + ', ' + df['Tenor']\n",
        "print(\"Risk factors are defined by the underlying issuer and tenor.\")\n",
        "print(df[['Position', 'Bucket', 'Risk Factor (Issuer, Tenor)']].to_string(index=False))\n",
        "print(\"-\" * 60)"
      ],
      "metadata": {
        "colab": {
          "base_uri": "https://localhost:8080/"
        },
        "id": "FL5hmyRveShw",
        "outputId": "00b04b00-f307-42e8-aa94-126a46f433ec"
      },
      "execution_count": 3,
      "outputs": [
        {
          "output_type": "stream",
          "name": "stdout",
          "text": [
            "\n",
            "### Step 1: Definition of Risk Factors ###\n",
            "Risk factors are defined by the underlying issuer and tenor.\n",
            " Position  Bucket Risk Factor (Issuer, Tenor)\n",
            "        1      13                Issuer 1, 6M\n",
            "        2      13                Issuer 1, 1Y\n",
            "        3      13                Issuer 1, 3Y\n",
            "------------------------------------------------------------\n"
          ]
        }
      ]
    },
    {
      "cell_type": "code",
      "source": [
        "# Cell 3: Step 2 - Definition of Delta Sensitivities\n",
        "print(\"\\n### Step 2: Definition of Delta Sensitivities ###\")\n",
        "print(\"Initial sensitivities are provided for each position.\")\n",
        "print(df[['Position', 'Risk Factor (Issuer, Tenor)', 'Sensitivity']].to_string(index=False))\n",
        "print(\"-\" * 60)"
      ],
      "metadata": {
        "colab": {
          "base_uri": "https://localhost:8080/"
        },
        "id": "94753giZePIt",
        "outputId": "354fc997-0d81-4d8d-cbef-ea21c0c8b1b0"
      },
      "execution_count": 4,
      "outputs": [
        {
          "output_type": "stream",
          "name": "stdout",
          "text": [
            "\n",
            "### Step 2: Definition of Delta Sensitivities ###\n",
            "Initial sensitivities are provided for each position.\n",
            " Position Risk Factor (Issuer, Tenor)  Sensitivity\n",
            "        1                Issuer 1, 6M         2344\n",
            "        2                Issuer 1, 1Y     -1812715\n",
            "        3                Issuer 1, 3Y     -5563010\n",
            "------------------------------------------------------------\n"
          ]
        }
      ]
    },
    {
      "cell_type": "code",
      "source": [
        "# Cell 4: Step 3 - Net Sensitivities\n",
        "print(\"\\n### Step 3: Net Sensitivities ###\")\n",
        "df['Net Sensitivity'] = df['Sensitivity']\n",
        "print(\"No netting is applicable as each position has a unique risk factor (tenor).\")\n",
        "print(df[['Position', 'Risk Factor (Issuer, Tenor)', 'Net Sensitivity']].to_string(index=False))\n",
        "print(\"-\" * 60)"
      ],
      "metadata": {
        "colab": {
          "base_uri": "https://localhost:8080/"
        },
        "id": "tziEkz9WeMD3",
        "outputId": "0f296b8b-f59c-4fae-af57-36e327e4addb"
      },
      "execution_count": 5,
      "outputs": [
        {
          "output_type": "stream",
          "name": "stdout",
          "text": [
            "\n",
            "### Step 3: Net Sensitivities ###\n",
            "No netting is applicable as each position has a unique risk factor (tenor).\n",
            " Position Risk Factor (Issuer, Tenor)  Net Sensitivity\n",
            "        1                Issuer 1, 6M             2344\n",
            "        2                Issuer 1, 1Y         -1812715\n",
            "        3                Issuer 1, 3Y         -5563010\n",
            "------------------------------------------------------------\n"
          ]
        }
      ]
    },
    {
      "cell_type": "code",
      "source": [
        "# Cell 5: Step 4 - Risk Weights and Weighted Sensitivities\n",
        "print(\"\\n### Step 4: Risk Weights and Weighted Sensitivities ###\")\n",
        "risk_weight = 0.12\n",
        "df['Risk Weight'] = f\"{risk_weight:.1%}\"\n",
        "df['Weighted Sensitivity'] = df['Net Sensitivity'] * risk_weight\n",
        "print(f\"Applying a risk weight of {risk_weight:.1%} for Bucket 13 (Article 325ak).\")\n",
        "print(df[['Position', 'Risk Factor (Issuer, Tenor)', 'Net Sensitivity', 'Risk Weight', 'Weighted Sensitivity']].to_string(index=False))\n",
        "sb = df['Weighted Sensitivity'].sum()\n",
        "print(f\"\\nSum of Weighted Sensitivities (Sb) for Bucket 13: {sb:,.0f}\")\n",
        "print(\"-\" * 60)"
      ],
      "metadata": {
        "colab": {
          "base_uri": "https://localhost:8080/"
        },
        "id": "18peNKUeeI6v",
        "outputId": "eb8da066-a76f-483a-a2b2-369180fc5a17"
      },
      "execution_count": 6,
      "outputs": [
        {
          "output_type": "stream",
          "name": "stdout",
          "text": [
            "\n",
            "### Step 4: Risk Weights and Weighted Sensitivities ###\n",
            "Applying a risk weight of 12.0% for Bucket 13 (Article 325ak).\n",
            " Position Risk Factor (Issuer, Tenor)  Net Sensitivity Risk Weight  Weighted Sensitivity\n",
            "        1                Issuer 1, 6M             2344       12.0%                281.28\n",
            "        2                Issuer 1, 1Y         -1812715       12.0%            -217525.80\n",
            "        3                Issuer 1, 3Y         -5563010       12.0%            -667561.20\n",
            "\n",
            "Sum of Weighted Sensitivities (Sb) for Bucket 13: -884,806\n",
            "------------------------------------------------------------\n"
          ]
        }
      ]
    },
    {
      "cell_type": "code",
      "source": [
        "# Cell 6: Step 5 & 6 - Determine Correlation Coefficients (Medium Scenario)\n",
        "print(\"\\n### Step 5 & 6: Determine Correlation Coefficients (Medium Scenario) ###\")\n",
        "corr_medium = 1.0 * 0.65 * 1.0\n",
        "print(f\"The intra-bucket correlation for the medium scenario is: {corr_medium:.4f}\")\n",
        "print(\"Cross-bucket correlation is not applicable as all positions are in a single bucket.\")\n",
        "print(\"-\" * 60)"
      ],
      "metadata": {
        "colab": {
          "base_uri": "https://localhost:8080/"
        },
        "id": "GTqQj5MIeF5b",
        "outputId": "bfe3c4ae-9da3-489c-b414-c28283240c40"
      },
      "execution_count": 7,
      "outputs": [
        {
          "output_type": "stream",
          "name": "stdout",
          "text": [
            "\n",
            "### Step 5 & 6: Determine Correlation Coefficients (Medium Scenario) ###\n",
            "The intra-bucket correlation for the medium scenario is: 0.6500\n",
            "Cross-bucket correlation is not applicable as all positions are in a single bucket.\n",
            "------------------------------------------------------------\n"
          ]
        }
      ]
    },
    {
      "cell_type": "code",
      "source": [
        "# Cell 7: Step 7 & 8 - Aggregation (Medium Scenario)\n",
        "print(\"\\n### Step 7 & 8: Aggregation (Medium Scenario) ###\")\n",
        "weighted_sensitivities = df['Weighted Sensitivity'].tolist()\n",
        "kb_medium = calculate_capital_charge(weighted_sensitivities, corr_medium)\n",
        "print(f\"The intra-bucket capital charge for Bucket 13 (Kb) is: £{kb_medium:,.0f}\")\n",
        "k_risk_class_medium = kb_medium\n",
        "print(f\"Total Delta Capital (Medium Scenario): £{k_risk_class_medium:,.0f}\")\n",
        "print(\"-\" * 60)"
      ],
      "metadata": {
        "colab": {
          "base_uri": "https://localhost:8080/"
        },
        "id": "6glAyPu2eDE8",
        "outputId": "008312b4-862c-4dd1-f1ff-7280d8f9fbf0"
      },
      "execution_count": 8,
      "outputs": [
        {
          "output_type": "stream",
          "name": "stdout",
          "text": [
            "\n",
            "### Step 7 & 8: Aggregation (Medium Scenario) ###\n",
            "The intra-bucket capital charge for Bucket 13 (Kb) is: £825,474\n",
            "Total Delta Capital (Medium Scenario): £825,474\n",
            "------------------------------------------------------------\n"
          ]
        }
      ]
    },
    {
      "cell_type": "code",
      "source": [
        "# Cell 8: Step 9 - Correlation Scenarios\n",
        "print(\"\\n### Step 9: Correlation Scenarios ###\")\n",
        "corr_high = min(corr_medium * 1.25, 1.0)\n",
        "kb_high = calculate_capital_charge(weighted_sensitivities, corr_high)\n",
        "corr_low = max(2 * corr_medium - 1, 0.75 * corr_medium)\n",
        "kb_low = calculate_capital_charge(weighted_sensitivities, corr_low)\n",
        "\n",
        "scenario_results = {\n",
        "    'Scenario': ['Low', 'Medium', 'High'],\n",
        "    'Intra-Bucket Correlation': [f\"{corr_low:.4f}\", f\"{corr_medium:.4f}\", f\"{corr_high:.4f}\"],\n",
        "    'Delta Capital Charge (£)': [f\"{kb_low:,.0f}\", f\"{kb_medium:,.0f}\", f\"{kb_high:,.0f}\"]\n",
        "}\n",
        "df_scenarios = pd.DataFrame(scenario_results)\n",
        "print(\"Recalculating the capital charge under High and Low correlation scenarios.\")\n",
        "print(df_scenarios.to_string(index=False))\n",
        "print(\"-\" * 60)"
      ],
      "metadata": {
        "colab": {
          "base_uri": "https://localhost:8080/"
        },
        "id": "7XP9Ngsyd_Vi",
        "outputId": "a9ab7d19-6341-4598-d9c4-09d23c8346e9"
      },
      "execution_count": 9,
      "outputs": [
        {
          "output_type": "stream",
          "name": "stdout",
          "text": [
            "\n",
            "### Step 9: Correlation Scenarios ###\n",
            "Recalculating the capital charge under High and Low correlation scenarios.\n",
            "Scenario Intra-Bucket Correlation Delta Capital Charge (£)\n",
            "     Low                   0.4875                  796,426\n",
            "  Medium                   0.6500                  825,474\n",
            "    High                   0.8125                  853,534\n",
            "------------------------------------------------------------\n"
          ]
        }
      ]
    },
    {
      "cell_type": "code",
      "source": [
        "# Cell 9: Step 10 - Final Charge Calculation\n",
        "print(\"\\n### Step 10: Final Charge Calculation ###\")\n",
        "final_charge = max(kb_low, kb_medium, kb_high)\n",
        "print(\"The final delta charge is the maximum of the three scenarios (Article 325h(4)).\")\n",
        "print(f\"\\nFinal CSR ACTP Delta Capital Requirement: £{final_charge:,.0f}\")\n",
        "print(\"=\" * 60)"
      ],
      "metadata": {
        "colab": {
          "base_uri": "https://localhost:8080/"
        },
        "id": "BgpY4FZ0d7kq",
        "outputId": "6bb9dd81-59f8-4646-eea8-ca7027484986"
      },
      "execution_count": 10,
      "outputs": [
        {
          "output_type": "stream",
          "name": "stdout",
          "text": [
            "\n",
            "### Step 10: Final Charge Calculation ###\n",
            "The final delta charge is the maximum of the three scenarios (Article 325h(4)).\n",
            "\n",
            "Final CSR ACTP Delta Capital Requirement: £853,534\n",
            "============================================================\n"
          ]
        }
      ]
    }
  ],
  "metadata": {
    "colab": {
      "provenance": [],
      "include_colab_link": true
    },
    "kernelspec": {
      "display_name": "Python 3",
      "name": "python3"
    }
  },
  "nbformat": 4,
  "nbformat_minor": 0
}