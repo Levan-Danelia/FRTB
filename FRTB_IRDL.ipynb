{
  "cells": [
    {
      "cell_type": "markdown",
      "metadata": {
        "id": "view-in-github",
        "colab_type": "text"
      },
      "source": [
        "<a href=\"https://colab.research.google.com/github/Levan-Danelia/FRTB/blob/main/FRTB_IRDL.ipynb\" target=\"_parent\"><img src=\"https://colab.research.google.com/assets/colab-badge.svg\" alt=\"Open In Colab\"/></a>"
      ]
    },
    {
      "cell_type": "code",
      "source": [
        "# Cell 1: Setup and Initial Data\n",
        "# -----------------------------------------------------------------------------\n",
        "# Import necessary libraries\n",
        "import pandas as pd\n",
        "import numpy as np\n",
        "\n",
        "# --- Initial Portfolio Data ---\n",
        "# This data represents the starting positions and their sensitivities.\n",
        "portfolio_data = [\n",
        "    {'position_id': 1, 'bucket': 'EUR', 'curve': 'OIS', 'tenor_str': '6M', 'sensitivity': -13},\n",
        "    {'position_id': 2, 'bucket': 'EUR', 'curve': 'OIS', 'tenor_str': '3M', 'sensitivity': 31},\n",
        "    {'position_id': 3, 'bucket': 'EUR', 'curve': 'SOV', 'tenor_str': '30Y', 'sensitivity': -3155},\n",
        "    {'position_id': 4, 'bucket': 'GBP', 'curve': 'OIS', 'tenor_str': '3M', 'sensitivity': 18404}\n",
        "]\n",
        "\n",
        "# --- Regulatory Parameters ---\n",
        "# Maps tenor strings to their value in years, as per Article 325l.\n",
        "TENOR_TO_YEARS = {'3M': 0.25, '6M': 0.5, '1Y': 1, '2Y': 2, '3Y': 3, '5Y': 5, '10Y': 10, '15': 15, '20Y': 20, '30Y': 30}\n",
        "\n",
        "# Defines the regulatory risk weights by tenor, from Article 325ae, Table 3.\n",
        "RISK_WEIGHTS = {0.25: 0.017, 0.5: 0.017, 1: 0.016, 2: 0.013, 3: 0.012, 5: 0.011, 10: 0.011, 15: 0.011, 20: 0.011, 30: 0.011}\n",
        "\n",
        "# A list of \"most liquid currencies\" which receive a lower risk weight, per Article 325ae.\n",
        "LIQUID_CURRENCIES = ['EUR', 'GBP', 'USD', 'JPY', 'CHF', 'AUD', 'CAD', 'SEK']\n",
        "\n",
        "# The theta parameter used in the tenor correlation formula, from Article 325af.\n",
        "THETA = 0.03\n",
        "\n",
        "# The uniform cross-bucket correlation for GIRR, from Article 325ag.\n",
        "GAMMA_BC = 0.5\n",
        "\n",
        "# Create an initial DataFrame\n",
        "df = pd.DataFrame(portfolio_data)\n",
        "df['tenor_years'] = df['tenor_str'].map(TENOR_TO_YEARS)\n",
        "\n",
        "print(\"--- Cell 1: Setup Complete ---\")\n",
        "print(f\"Loaded {len(df)} positions and all regulatory parameters.\")\n"
      ],
      "outputs": [
        {
          "output_type": "stream",
          "name": "stdout",
          "text": [
            "--- Cell 1: Setup Complete ---\n",
            "Loaded 4 positions and all regulatory parameters.\n"
          ]
        }
      ],
      "execution_count": 1,
      "metadata": {
        "colab": {
          "base_uri": "https://localhost:8080/"
        },
        "id": "yyA1-FklLX5A",
        "outputId": "0bae65e3-7aec-4fdb-e8ee-7743a1241649"
      }
    },
    {
      "cell_type": "code",
      "source": [
        "\n",
        "# Cell 2: Step 1 & 2 - Identify and Net Sensitivities\n",
        "# -----------------------------------------------------------------------------\n",
        "# As per Article 325f(5), sensitivities for identical risk factors are netted.\n",
        "# In this example, each position is a unique risk factor, so no netting is applied.\n",
        "print(\"\\n--- Cell 2: Step 1 & 2 - Net Sensitivities ---\")\n",
        "print(\"Result: Net sensitivities are identical to initial sensitivities.\")\n",
        "print(df[['position_id', 'bucket', 'curve', 'tenor_str', 'sensitivity']].to_string(index=False))\n"
      ],
      "metadata": {
        "colab": {
          "base_uri": "https://localhost:8080/"
        },
        "id": "735ki1kPL1y7",
        "outputId": "b7373e01-21d2-4860-d9ee-3aa7f06c8637"
      },
      "execution_count": 2,
      "outputs": [
        {
          "output_type": "stream",
          "name": "stdout",
          "text": [
            "\n",
            "--- Cell 2: Step 1 & 2 - Net Sensitivities ---\n",
            "Result: Net sensitivities are identical to initial sensitivities.\n",
            " position_id bucket curve tenor_str  sensitivity\n",
            "           1    EUR   OIS        6M          -13\n",
            "           2    EUR   OIS        3M           31\n",
            "           3    EUR   SOV       30Y        -3155\n",
            "           4    GBP   OIS        3M        18404\n"
          ]
        }
      ]
    },
    {
      "cell_type": "code",
      "source": [
        "\n",
        "# Cell 3: Step 3 - Calculate Weighted Sensitivities\n",
        "# -----------------------------------------------------------------------------\n",
        "# Each net sensitivity is multiplied by its regulatory risk weight (RW_k) from Article 325ae.\n",
        "# For liquid currencies, the RW is divided by sqrt(2).\n",
        "def get_risk_weight(row):\n",
        "    original_weight = RISK_WEIGHTS[row['tenor_years']]\n",
        "    applied_weight = original_weight / np.sqrt(2) if row['bucket'] in LIQUID_CURRENCIES else original_weight\n",
        "    return pd.Series([original_weight, applied_weight])\n",
        "\n",
        "df[['original_rw', 'applied_rw']] = df.apply(get_risk_weight, axis=1)\n",
        "df['weighted_sensitivity'] = df['sensitivity'] * df['applied_rw']\n",
        "\n",
        "print(\"\\n--- Cell 3: Step 3 - Weighted Sensitivities ---\")\n",
        "print(df[['position_id', 'sensitivity', 'tenor_str', 'original_rw', 'applied_rw', 'weighted_sensitivity']].round(4).to_string(index=False))\n"
      ],
      "metadata": {
        "colab": {
          "base_uri": "https://localhost:8080/"
        },
        "id": "OFO4tVrhLxjN",
        "outputId": "0bc2049d-d5df-4571-8646-4032a937ed47"
      },
      "execution_count": 3,
      "outputs": [
        {
          "output_type": "stream",
          "name": "stdout",
          "text": [
            "\n",
            "--- Cell 3: Step 3 - Weighted Sensitivities ---\n",
            " position_id  sensitivity tenor_str  original_rw  applied_rw  weighted_sensitivity\n",
            "           1          -13        6M        0.017      0.0120               -0.1563\n",
            "           2           31        3M        0.017      0.0120                0.3726\n",
            "           3        -3155       30Y        0.011      0.0078              -24.5401\n",
            "           4        18404        3M        0.017      0.0120              221.2311\n"
          ]
        }
      ]
    },
    {
      "cell_type": "code",
      "source": [
        "# Cell 4: Step 4 & 5 - Determine Medium Scenario Correlations\n",
        "# -----------------------------------------------------------------------------\n",
        "# Per Article 325af, correlation (rho_kl) is calculated for risk factor pairs within the same bucket.\n",
        "# Per Article 325ag, the cross-bucket correlation (gamma_bc) is set.\n",
        "print(\"\\n--- Cell 4: Step 4 & 5 - Medium Scenario Correlations ---\")\n",
        "intra_corrs_medium = {}\n",
        "eur_bucket = df[df['bucket'] == 'EUR'].to_dict('records')\n",
        "for i in range(len(eur_bucket)):\n",
        "    for j in range(i + 1, len(eur_bucket)):\n",
        "        pos1, pos2 = eur_bucket[i], eur_bucket[j]\n",
        "        rho_tenor = max(np.exp(-THETA * abs(pos1['tenor_years'] - pos2['tenor_years']) / min(pos1['tenor_years'], pos2['tenor_years'])), 0.4)\n",
        "        rho_kl = rho_tenor if pos1['curve'] == pos2['curve'] else rho_tenor * 0.999\n",
        "        intra_corrs_medium[(pos1['position_id'], pos2['position_id'])] = rho_kl\n",
        "\n",
        "cross_corr_medium = GAMMA_BC\n",
        "\n",
        "print(\"Intra-Bucket Correlations (EUR):\")\n",
        "for pair, corr in intra_corrs_medium.items():\n",
        "    print(f\"  - Pos {pair[0]} vs Pos {pair[1]}: {corr:.4f}\")\n",
        "print(f\"\\nCross-Bucket Correlation (EUR vs GBP): {cross_corr_medium:.0%}\")\n"
      ],
      "metadata": {
        "colab": {
          "base_uri": "https://localhost:8080/"
        },
        "id": "sylwPbY-LtXH",
        "outputId": "5021ca0d-a91e-43fd-d7a6-69b86f680db0"
      },
      "execution_count": 4,
      "outputs": [
        {
          "output_type": "stream",
          "name": "stdout",
          "text": [
            "\n",
            "--- Cell 4: Step 4 & 5 - Medium Scenario Correlations ---\n",
            "Intra-Bucket Correlations (EUR):\n",
            "  - Pos 1 vs Pos 2: 0.9704\n",
            "  - Pos 1 vs Pos 3: 0.3996\n",
            "  - Pos 2 vs Pos 3: 0.3996\n",
            "\n",
            "Cross-Bucket Correlation (EUR vs GBP): 50%\n"
          ]
        }
      ]
    },
    {
      "cell_type": "code",
      "source": [
        "# Cell 5: Step 6 & 7 - Calculate Capital for Medium Scenario\n",
        "# -----------------------------------------------------------------------------\n",
        "# This cell calculates the bucket-specific capital (K_b) and then aggregates them\n",
        "# to find the total capital for the Medium Scenario.\n",
        "print(\"\\n--- Cell 5: Step 6 & 7 - Medium Scenario Capital Calculation ---\")\n",
        "capital_results = {}\n",
        "\n",
        "def calculate_capital_for_scenario(df, intra_corrs, cross_corr, scenario_name):\n",
        "    bucket_results = {}\n",
        "    for bucket_name, group in df.groupby('bucket'):\n",
        "        positions = group.to_dict('records')\n",
        "        if len(positions) == 1:\n",
        "            k_b = abs(positions[0]['weighted_sensitivity'])\n",
        "        else:\n",
        "            sum_ws_sq = np.sum(group['weighted_sensitivity']**2)\n",
        "            cross_term = 0\n",
        "            for i in range(len(positions)):\n",
        "                for j in range(i + 1, len(positions)):\n",
        "                    pos1, pos2 = positions[i], positions[j]\n",
        "                    rho_kl = intra_corrs.get((pos1['position_id'], pos2['position_id']), 0)\n",
        "                    cross_term += 2 * rho_kl * pos1['weighted_sensitivity'] * pos2['weighted_sensitivity']\n",
        "            k_b = np.sqrt(max(0, sum_ws_sq + cross_term))\n",
        "        bucket_results[bucket_name] = {'K_b': k_b, 'S_b': group['weighted_sensitivity'].sum()}\n",
        "\n",
        "    sum_kb_sq = sum(res['K_b']**2 for res in bucket_results.values())\n",
        "    cross_bucket_term = 0\n",
        "    bucket_names = list(bucket_results.keys())\n",
        "    for i in range(len(bucket_names)):\n",
        "        for j in range(i + 1, len(bucket_names)):\n",
        "            s_b = bucket_results[bucket_names[i]]['S_b']\n",
        "            s_c = bucket_results[bucket_names[j]]['S_b']\n",
        "            cross_bucket_term += 2 * cross_corr * s_b * s_c\n",
        "    total_capital = np.sqrt(max(0, sum_kb_sq + cross_bucket_term))\n",
        "    return total_capital, bucket_results\n",
        "\n",
        "capital_results['Medium'], bucket_results_med = calculate_capital_for_scenario(df, intra_corrs_medium, cross_corr_medium, 'Medium')\n",
        "print(\"Bucket Capital (K_b):\")\n",
        "for bucket, result in bucket_results_med.items():\n",
        "    print(f\"  - {bucket}: {result['K_b']:.2f}\")\n",
        "print(f\"\\nTotal Capital for Medium Scenario: {capital_results['Medium']:.2f}\")"
      ],
      "metadata": {
        "colab": {
          "base_uri": "https://localhost:8080/"
        },
        "id": "8Xpymx-MLm78",
        "outputId": "08a96415-ff05-4513-d95d-f548db337681"
      },
      "execution_count": 5,
      "outputs": [
        {
          "output_type": "stream",
          "name": "stdout",
          "text": [
            "\n",
            "--- Cell 5: Step 6 & 7 - Medium Scenario Capital Calculation ---\n",
            "Bucket Capital (K_b):\n",
            "  - EUR: 24.45\n",
            "  - GBP: 221.23\n",
            "\n",
            "Total Capital for Medium Scenario: 210.14\n"
          ]
        }
      ]
    },
    {
      "cell_type": "code",
      "source": [
        "# Cell 6: Step 8 & 9 - High/Low Scenarios and Final Charge\n",
        "# -----------------------------------------------------------------------------\n",
        "# Per Article 325h, correlations are stressed and the capital is recalculated.\n",
        "# The final charge is the maximum of the three scenarios.\n",
        "print(\"\\n--- Cell 6: Step 8 & 9 - Final Charge Determination ---\")\n",
        "\n",
        "def adjust_correlation(medium_corr, scenario):\n",
        "    if scenario == 'High': return min(medium_corr * 1.25, 1.0)\n",
        "    if scenario == 'Low': return max(2 * medium_corr - 1.0, 0.75 * medium_corr)\n",
        "    return medium_corr\n",
        "\n",
        "# High Scenario\n",
        "high_intra = {k: adjust_correlation(v, 'High') for k, v in intra_corrs_medium.items()}\n",
        "high_cross = adjust_correlation(cross_corr_medium, 'High')\n",
        "capital_results['High'], _ = calculate_capital_for_scenario(df, high_intra, high_cross, 'High')\n",
        "\n",
        "# Low Scenario\n",
        "low_intra = {k: adjust_correlation(v, 'Low') for k, v in intra_corrs_medium.items()}\n",
        "low_cross = adjust_correlation(cross_corr_medium, 'Low')\n",
        "capital_results['Low'], _ = calculate_capital_for_scenario(df, low_intra, low_cross, 'Low')\n",
        "\n",
        "# Final Result\n",
        "summary_df = pd.DataFrame(list(capital_results.items()), columns=['Scenario', 'Capital Requirement'])\n",
        "winning_scenario = max(capital_results, key=capital_results.get)\n",
        "final_charge = capital_results[winning_scenario]\n",
        "\n",
        "print(\"Scenario Results Summary:\")\n",
        "print(summary_df.round(2).to_string(index=False))\n",
        "print(f\"\\nFinal GIRR Delta Charge ({winning_scenario} Scenario): {final_charge:.2f}\")"
      ],
      "metadata": {
        "colab": {
          "base_uri": "https://localhost:8080/"
        },
        "id": "J-1Nc72pLf4b",
        "outputId": "b8276506-031c-4341-a66b-cf8ab207acb1"
      },
      "execution_count": 6,
      "outputs": [
        {
          "output_type": "stream",
          "name": "stdout",
          "text": [
            "\n",
            "--- Cell 6: Step 8 & 9 - Final Charge Determination ---\n",
            "Scenario Results Summary:\n",
            "Scenario  Capital Requirement\n",
            "  Medium               210.14\n",
            "    High               206.91\n",
            "     Low               213.32\n",
            "\n",
            "Final GIRR Delta Charge (Low Scenario): 213.32\n"
          ]
        }
      ]
    }
  ],
  "metadata": {
    "colab": {
      "provenance": [],
      "include_colab_link": true
    },
    "kernelspec": {
      "display_name": "Python 3",
      "name": "python3"
    }
  },
  "nbformat": 4,
  "nbformat_minor": 0
}